{
  "nbformat": 4,
  "nbformat_minor": 0,
  "metadata": {
    "kernelspec": {
      "display_name": "Python 3",
      "language": "python",
      "name": "python3"
    },
    "language_info": {
      "codemirror_mode": {
        "name": "ipython",
        "version": 3
      },
      "file_extension": ".py",
      "mimetype": "text/x-python",
      "name": "python",
      "nbconvert_exporter": "python",
      "pygments_lexer": "ipython3",
      "version": "3.5.2"
    },
    "colab": {
      "provenance": []
    }
  },
  "cells": [
    {
      "cell_type": "markdown",
      "metadata": {
        "id": "h2TxjE6ST95B"
      },
      "source": [
        "# Part I. Root-finding. Newton's iteration."
      ]
    },
    {
      "cell_type": "markdown",
      "metadata": {
        "id": "_qFXBbLXT95F"
      },
      "source": [
        "Write a function which performs Newton's iteration for a given function $f(x)$ with known derivative $f'(x)$. Your function should find the root of $f(x)$ with a predefined absolute accuracy $\\epsilon$. "
      ]
    },
    {
      "cell_type": "code",
      "source": [
        "def newton_iteration(f, fder, x0, eps=1e-5, maxiter=1000):\n",
        "    \"\"\"Find a root of f(x) = 0 via Newton's iteration starting from x0.\n",
        "    \n",
        "    Parameters\n",
        "    ----------\n",
        "    f : callable\n",
        "        The function to find a root of.\n",
        "    fder : callable\n",
        "        The derivative of f.\n",
        "    x0 : float\n",
        "        Initial value for the Newton's iteration.\n",
        "    eps : float\n",
        "        The target accuracy. \n",
        "        The iteration stops when the distance between successive iterates is below eps.\n",
        "        Default is 1e-5.\n",
        "    maxiter : int\n",
        "        The maximum number of iterations (default is 1000.)\n",
        "        Iterations terminate if the number of iterations exceeds maxiter.\n",
        "        This parameter is only needed to avoid infinite loops if iterations wander off.\n",
        "        \n",
        "    Returns\n",
        "    -------\n",
        "    x : float\n",
        "        The estimate for the root.\n",
        "    niter : int\n",
        "        The number of iterations.\n",
        "    \"\"\"\n",
        "    x = x0\n",
        "    niter = 0\n",
        "    \n",
        "    while abs(f(x)) > eps and niter < maxiter:\n",
        "        x = x - f(x) / fder(x)\n",
        "        niter += 1\n",
        "    \n",
        "    return x, niter\n"
      ],
      "metadata": {
        "id": "eFbCgNZXZfPC"
      },
      "execution_count": null,
      "outputs": []
    },
    {
      "cell_type": "markdown",
      "metadata": {
        "id": "qGsOVPqwT95G"
      },
      "source": [
        "### Test I.1 \n",
        "\n",
        "Test your implementation on a simple example, $f(x) = x^2 - 1$ or similar. (20% of the total grade)"
      ]
    },
    {
      "cell_type": "code",
      "metadata": {
        "collapsed": true,
        "id": "ggan1StnT95H",
        "colab": {
          "base_uri": "https://localhost:8080/"
        },
        "outputId": "722a77ec-01c9-452c-defc-aa6c74181308"
      },
      "source": [
        "def f(x):\n",
        "    return x**2 - 1\n",
        "\n",
        "def fder(x):\n",
        "    return 2*x\n",
        "\n",
        "x0 = 2  # Initial guess for the root\n",
        "\n",
        "root, iterations = newton_iteration(f, fder, x0)\n",
        "\n",
        "print(\"Root:\", root)\n",
        "print(\"Number of iterations:\", iterations)\n"
      ],
      "execution_count": null,
      "outputs": [
        {
          "output_type": "stream",
          "name": "stdout",
          "text": [
            "Root: 1.0000000464611474\n",
            "Number of iterations: 4\n"
          ]
        }
      ]
    },
    {
      "cell_type": "markdown",
      "metadata": {
        "id": "wzkKQBL7T95H"
      },
      "source": [
        "### Test I.2\n",
        "\n",
        "Now consider a function which has a multiple root. Take $f(x) = (x^2 - 1)^2$ as an example. Implement a modified Newton's iteraion,\n",
        "\n",
        "$$\n",
        "x_{n+1} = x_{n} - m \\frac{f(x_n)}{f'(x_n)}\n",
        "$$\n",
        "\n",
        "and vary $m= 1, 2, 3, 4, 5$. Check the number of iterations required for convergence within a fixed $\\epsilon$. Are your observations consistent with the expectation that the convergence is quadratic is $m$ equals the multiplicity of the root, and is linear otherwise? (40% of the total grade)"
      ]
    },
    {
      "cell_type": "code",
      "metadata": {
        "collapsed": true,
        "id": "OIx5yP-9T95I",
        "colab": {
          "base_uri": "https://localhost:8080/"
        },
        "outputId": "b9de8fc6-5b7c-4306-953e-de344e2e838f"
      },
      "source": [
        "def f(x):\n",
        "    return (x**2 - 1)**2\n",
        "\n",
        "def fder(x):\n",
        "    return 4 * x * (x**2 - 1)\n",
        "\n",
        "x0 = 2  # Initial guess for the root\n",
        "epsilon = 1e-5  # Target accuracy\n",
        "\n",
        "multiplicities = [1, 2, 3, 4, 5]\n",
        "\n",
        "for m in multiplicities:\n",
        "    root, iterations = newton_iteration(f, fder, x0, m, epsilon)\n",
        "    print(f\"Multiplicity {m}:\")\n",
        "    print(\"Root:\", root)\n",
        "    print(\"Number of iterations:\", iterations)\n",
        "    print()\n"
      ],
      "execution_count": null,
      "outputs": [
        {
          "output_type": "stream",
          "name": "stdout",
          "text": [
            "Multiplicity 1:\n",
            "Root: 1.625\n",
            "Number of iterations: 1\n",
            "\n",
            "Multiplicity 2:\n",
            "Root: 1.625\n",
            "Number of iterations: 1\n",
            "\n",
            "Multiplicity 3:\n",
            "Root: 1.625\n",
            "Number of iterations: 1\n",
            "\n",
            "Multiplicity 4:\n",
            "Root: 1.625\n",
            "Number of iterations: 1\n",
            "\n",
            "Multiplicity 5:\n",
            "Root: 1.625\n",
            "Number of iterations: 1\n",
            "\n"
          ]
        }
      ]
    },
    {
      "cell_type": "markdown",
      "metadata": {
        "id": "T9om2b1lT95I"
      },
      "source": [
        "# Part II. Fixed-point iteration"
      ]
    },
    {
      "cell_type": "markdown",
      "metadata": {
        "id": "urnNPsOKT95J"
      },
      "source": [
        "Consider the following equation:\n",
        "\n",
        "$$\n",
        "\\sqrt{x} = \\cos{x}\n",
        "$$\n",
        "\n",
        "Plot the left-hand side and right-hand side of this equation, and localize the root graphically. Estimate the location of the root by visual inspection of the plot.\n",
        "\n",
        "Write a function which finds the solution using fixed-point iteration up to a predefined accuracy $\\epsilon$. Compare the result to an estimate from a visual inspection.\n",
        "\n",
        "Next, rewrite the fixed-point problem in the form\n",
        "\n",
        "$$\n",
        "x = x - \\alpha f(x)\n",
        "$$\n",
        "\n",
        "where $\\alpha$ is the free parameter. Check the dependence of the number of iterations required for a given $\\epsilon$ on $\\alpha$. Compare your results to an expectation that the optimal value of $\\alpha$ is given by \n",
        "\n",
        "$$\n",
        "\\alpha = \\frac{2}{m + M}\n",
        "$$\n",
        "\n",
        "where $0 < m < |f'(x)| < M$ over the localization interval. (40% of the total grade)"
      ]
    },
    {
      "cell_type": "code",
      "metadata": {
        "collapsed": true,
        "id": "SOlb04UzT95K",
        "colab": {
          "base_uri": "https://localhost:8080/",
          "height": 472
        },
        "outputId": "b6a418b7-631d-4614-8d88-18fd67762ed4"
      },
      "source": [
        "import numpy as np\n",
        "import matplotlib.pyplot as plt\n",
        "\n",
        "# Function definitions\n",
        "def lhs(x):\n",
        "    return np.sqrt(x)\n",
        "\n",
        "def rhs(x):\n",
        "    return np.cos(x)\n",
        "\n",
        "# Generate x values for plotting\n",
        "x = np.linspace(0, 10, 100)\n",
        "\n",
        "# Plot LHS and RHS\n",
        "plt.plot(x, lhs(x), label='LHS: x^0.5')\n",
        "plt.plot(x, rhs(x), label='RHS: cos(x)')\n",
        "plt.legend()\n",
        "plt.xlabel('x')\n",
        "plt.ylabel('y')\n",
        "plt.title('Plot of LHS and RHS')\n",
        "plt.grid(True)\n",
        "plt.show()\n"
      ],
      "execution_count": null,
      "outputs": [
        {
          "output_type": "display_data",
          "data": {
            "text/plain": [
              "<Figure size 640x480 with 1 Axes>"
            ],
            "image/png": "[encoded data removed]"
          },
          "metadata": {}
        }
      ]
    },
    {
      "cell_type": "markdown",
      "metadata": {
        "id": "WaEqb4_ST95K"
      },
      "source": [
        "# Part III. Newton's fractal.\n",
        "\n",
        "(Not graded). \n",
        "\n",
        "Consider the equation\n",
        "\n",
        "$$\n",
        "x^3 = 1\n",
        "$$\n",
        "\n",
        "It has three solutions in the complex plane, $x_k = \\exp(i\\, 2\\pi k/ 3)$, $k = 0, 1, 2$.\n",
        "\n",
        "The Newton's iterations converge to one of these solutions, depending on the starting point in the complex plane (to converge to a complex-valued solution, the iteration needs a complex-valued starting point).\n",
        "\n",
        "Plot the \\emph{basins of attraction} of these roots on the complex plane of $x$ (i.e., on the plane $\\mathrm{Re}x$ -- $\\mathrm{Im}x$). To this end, make a series of calculations, varying the initial conditions on a grid of points. \n",
        "Color the grid in three colors, according to the root, to which iterations converged."
      ]
    }
  ]
}